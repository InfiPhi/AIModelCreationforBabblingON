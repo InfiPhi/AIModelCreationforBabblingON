{
  "nbformat": 4,
  "nbformat_minor": 0,
  "metadata": {
    "colab": {
      "provenance": []
    },
    "kernelspec": {
      "name": "python3",
      "display_name": "Python 3"
    },
    "language_info": {
      "name": "python"
    }
  },
  "cells": [
    {
      "cell_type": "code",
      "execution_count": null,
      "metadata": {
        "id": "HZJ8lv0vpwQf"
      },
      "outputs": [],
      "source": [
        "import matplotlib.pyplot as plt\n",
        "import seaborn as sns\n",
        "from keras.models import Sequential\n",
        "from keras.layers import Dense, Conv2D , MaxPool2D , Flatten , Dropout , BatchNormalization\n",
        "from keras.preprocessing.image import ImageDataGenerator\n",
        "from sklearn.model_selection import train_test_split\n",
        "from sklearn.metrics import classification_report,confusion_matrix\n",
        "import pandas as pd\n",
        "\n",
        "train_df = pd.read_csv(\"sign_mnist_train.csv\")\n",
        "test_df = pd.read_csv(\"sign_mnist_test.csv\")\n",
        "\n",
        "y_train = train_df['label']\n",
        "y_test = test_df['label']\n",
        "del train_df['label']\n",
        "del test_df['label']\n",
        "\n",
        "from sklearn.preprocessing import LabelBinarizer\n",
        "label_binarizer = LabelBinarizer()\n",
        "y_train = label_binarizer.fit_transform(y_train)\n",
        "y_test = label_binarizer.fit_transform(y_test)\n",
        "\n",
        "x_train = train_df.values\n",
        "x_test = test_df.values\n",
        "\n",
        "x_train = x_train / 255\n",
        "x_test = x_test / 255\n",
        "\n",
        "x_train = x_train.reshape(-1,28,28,1)\n",
        "x_test = x_test.reshape(-1,28,28,1)"
      ]
    },
    {
      "cell_type": "code",
      "source": [
        "datagen = ImageDataGenerator(\n",
        "        featurewise_center=False,\n",
        "        samplewise_center=False,\n",
        "        featurewise_std_normalization=False,\n",
        "        samplewise_std_normalization=False,\n",
        "        zca_whitening=False,\n",
        "        rotation_range=10,\n",
        "        zoom_range = 0.1,\n",
        "        width_shift_range=0.1,\n",
        "        height_shift_range=0.1,\n",
        "        horizontal_flip=False,\n",
        "        vertical_flip=False)\n",
        "\n",
        "datagen.fit(x_train)\n"
      ],
      "metadata": {
        "id": "bQIoSrZXq-Rr"
      },
      "execution_count": null,
      "outputs": []
    },
    {
      "cell_type": "code",
      "source": [
        "model = Sequential()\n",
        "model.add(Conv2D(75 , (3,3) , strides = 1 , padding = 'same' , activation = 'relu' , input_shape = (28,28,1)))\n",
        "model.add(BatchNormalization())\n",
        "model.add(MaxPool2D((2,2) , strides = 2 , padding = 'same'))\n",
        "model.add(Conv2D(50 , (3,3) , strides = 1 , padding = 'same' , activation = 'relu'))\n",
        "model.add(Dropout(0.2))\n",
        "model.add(BatchNormalization())\n",
        "model.add(MaxPool2D((2,2) , strides = 2 , padding = 'same'))\n",
        "model.add(Conv2D(25 , (3,3) , strides = 1 , padding = 'same' , activation = 'relu'))\n",
        "model.add(BatchNormalization())\n",
        "model.add(MaxPool2D((2,2) , strides = 2 , padding = 'same'))\n",
        "model.add(Flatten())\n",
        "model.add(Dense(units = 512 , activation = 'relu'))\n",
        "model.add(Dropout(0.3))\n",
        "model.add(Dense(units = 24 , activation = 'softmax'))"
      ],
      "metadata": {
        "id": "ANIWsINkrDpJ"
      },
      "execution_count": null,
      "outputs": []
    },
    {
      "cell_type": "code",
      "source": [
        "model.compile(optimizer = 'adam' , loss = 'categorical_crossentropy' , metrics = ['accuracy'])\n",
        "model.summary()\n",
        "\n",
        "history = model.fit(datagen.flow(x_train,y_train, batch_size = 128) ,epochs = 20 , validation_data = (x_test, y_test))\n",
        "\n",
        "model.save('smnist.h5')"
      ],
      "metadata": {
        "colab": {
          "base_uri": "https://localhost:8080/"
        },
        "id": "Qs0XdAEJrH1x",
        "outputId": "631f9137-2a82-46c1-d63a-37d0005ed678"
      },
      "execution_count": null,
      "outputs": [
        {
          "output_type": "stream",
          "name": "stdout",
          "text": [
            "Model: \"sequential\"\n",
            "_________________________________________________________________\n",
            " Layer (type)                Output Shape              Param #   \n",
            "=================================================================\n",
            " conv2d (Conv2D)             (None, 28, 28, 75)        750       \n",
            "                                                                 \n",
            " batch_normalization (Batch  (None, 28, 28, 75)        300       \n",
            " Normalization)                                                  \n",
            "                                                                 \n",
            " max_pooling2d (MaxPooling2  (None, 14, 14, 75)        0         \n",
            " D)                                                              \n",
            "                                                                 \n",
            " conv2d_1 (Conv2D)           (None, 14, 14, 50)        33800     \n",
            "                                                                 \n",
            " dropout (Dropout)           (None, 14, 14, 50)        0         \n",
            "                                                                 \n",
            " batch_normalization_1 (Bat  (None, 14, 14, 50)        200       \n",
            " chNormalization)                                                \n",
            "                                                                 \n",
            " max_pooling2d_1 (MaxPoolin  (None, 7, 7, 50)          0         \n",
            " g2D)                                                            \n",
            "                                                                 \n",
            " conv2d_2 (Conv2D)           (None, 7, 7, 25)          11275     \n",
            "                                                                 \n",
            " batch_normalization_2 (Bat  (None, 7, 7, 25)          100       \n",
            " chNormalization)                                                \n",
            "                                                                 \n",
            " max_pooling2d_2 (MaxPoolin  (None, 4, 4, 25)          0         \n",
            " g2D)                                                            \n",
            "                                                                 \n",
            " flatten (Flatten)           (None, 400)               0         \n",
            "                                                                 \n",
            " dense (Dense)               (None, 512)               205312    \n",
            "                                                                 \n",
            " dropout_1 (Dropout)         (None, 512)               0         \n",
            "                                                                 \n",
            " dense_1 (Dense)             (None, 24)                12312     \n",
            "                                                                 \n",
            "=================================================================\n",
            "Total params: 264049 (1.01 MB)\n",
            "Trainable params: 263749 (1.01 MB)\n",
            "Non-trainable params: 300 (1.17 KB)\n",
            "_________________________________________________________________\n",
            "Epoch 1/20\n",
            "215/215 [==============================] - 115s 524ms/step - loss: 1.0329 - accuracy: 0.6762 - val_loss: 4.2555 - val_accuracy: 0.0793\n",
            "Epoch 2/20\n",
            "215/215 [==============================] - 111s 517ms/step - loss: 0.2023 - accuracy: 0.9340 - val_loss: 1.5219 - val_accuracy: 0.5243\n",
            "Epoch 3/20\n",
            "215/215 [==============================] - 108s 501ms/step - loss: 0.1041 - accuracy: 0.9663 - val_loss: 0.0856 - val_accuracy: 0.9787\n",
            "Epoch 4/20\n",
            "215/215 [==============================] - 106s 493ms/step - loss: 0.0597 - accuracy: 0.9805 - val_loss: 0.2608 - val_accuracy: 0.9110\n",
            "Epoch 5/20\n",
            "215/215 [==============================] - 106s 490ms/step - loss: 0.0504 - accuracy: 0.9842 - val_loss: 0.1990 - val_accuracy: 0.9392\n",
            "Epoch 6/20\n",
            "215/215 [==============================] - 105s 490ms/step - loss: 0.0383 - accuracy: 0.9876 - val_loss: 0.0608 - val_accuracy: 0.9773\n",
            "Epoch 7/20\n",
            "215/215 [==============================] - 105s 488ms/step - loss: 0.0286 - accuracy: 0.9906 - val_loss: 0.0235 - val_accuracy: 0.9911\n",
            "Epoch 8/20\n",
            "215/215 [==============================] - 105s 489ms/step - loss: 0.0237 - accuracy: 0.9922 - val_loss: 0.0224 - val_accuracy: 0.9909\n",
            "Epoch 9/20\n",
            "215/215 [==============================] - 105s 486ms/step - loss: 0.0253 - accuracy: 0.9918 - val_loss: 0.2294 - val_accuracy: 0.9290\n",
            "Epoch 10/20\n",
            "215/215 [==============================] - 112s 521ms/step - loss: 0.0196 - accuracy: 0.9935 - val_loss: 0.0330 - val_accuracy: 0.9902\n",
            "Epoch 11/20\n",
            "215/215 [==============================] - 104s 484ms/step - loss: 0.0219 - accuracy: 0.9933 - val_loss: 0.0031 - val_accuracy: 0.9996\n",
            "Epoch 12/20\n",
            "215/215 [==============================] - 112s 519ms/step - loss: 0.0200 - accuracy: 0.9935 - val_loss: 0.1451 - val_accuracy: 0.9455\n",
            "Epoch 13/20\n",
            "215/215 [==============================] - 110s 510ms/step - loss: 0.0162 - accuracy: 0.9945 - val_loss: 0.4686 - val_accuracy: 0.8702\n",
            "Epoch 14/20\n",
            "215/215 [==============================] - 105s 490ms/step - loss: 0.0253 - accuracy: 0.9913 - val_loss: 0.0088 - val_accuracy: 0.9980\n",
            "Epoch 15/20\n",
            "215/215 [==============================] - 110s 512ms/step - loss: 0.0187 - accuracy: 0.9941 - val_loss: 0.0229 - val_accuracy: 0.9925\n",
            "Epoch 16/20\n",
            "215/215 [==============================] - 107s 495ms/step - loss: 0.0194 - accuracy: 0.9932 - val_loss: 0.0096 - val_accuracy: 0.9979\n",
            "Epoch 17/20\n",
            "215/215 [==============================] - 105s 486ms/step - loss: 0.0182 - accuracy: 0.9940 - val_loss: 0.4731 - val_accuracy: 0.8887\n",
            "Epoch 18/20\n",
            "215/215 [==============================] - 110s 509ms/step - loss: 0.0155 - accuracy: 0.9954 - val_loss: 1.0289 - val_accuracy: 0.7793\n",
            "Epoch 19/20\n",
            "215/215 [==============================] - 105s 489ms/step - loss: 0.0158 - accuracy: 0.9946 - val_loss: 1.3386 - val_accuracy: 0.7335\n",
            "Epoch 20/20\n",
            "215/215 [==============================] - 104s 484ms/step - loss: 0.0146 - accuracy: 0.9950 - val_loss: 0.0749 - val_accuracy: 0.9743\n"
          ]
        },
        {
          "output_type": "stream",
          "name": "stderr",
          "text": [
            "/usr/local/lib/python3.10/dist-packages/keras/src/engine/training.py:3079: UserWarning: You are saving your model as an HDF5 file via `model.save()`. This file format is considered legacy. We recommend using instead the native Keras format, e.g. `model.save('my_model.keras')`.\n",
            "  saving_api.save_model(\n"
          ]
        }
      ]
    }
  ]
}